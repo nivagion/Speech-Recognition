{
 "cells": [
  {
   "cell_type": "code",
   "execution_count": 2,
   "id": "d054b79f",
   "metadata": {},
   "outputs": [
    {
     "name": "stdout",
     "output_type": "stream",
     "text": [
      "Looking in indexes: https://download.pytorch.org/whl/cu121\n",
      "Requirement already satisfied: torch in c:\\users\\user\\.julia\\conda\\3\\x86_64\\lib\\site-packages (2.5.1+cu121)\n",
      "Requirement already satisfied: torchvision in c:\\users\\user\\.julia\\conda\\3\\x86_64\\lib\\site-packages (0.20.1+cu121)\n",
      "Requirement already satisfied: torchaudio in c:\\users\\user\\.julia\\conda\\3\\x86_64\\lib\\site-packages (2.5.1+cu121)\n",
      "Requirement already satisfied: filelock in c:\\users\\user\\.julia\\conda\\3\\x86_64\\lib\\site-packages (from torch) (3.18.0)\n",
      "Requirement already satisfied: typing-extensions>=4.8.0 in c:\\users\\user\\.julia\\conda\\3\\x86_64\\lib\\site-packages (from torch) (4.12.2)\n",
      "Requirement already satisfied: networkx in c:\\users\\user\\.julia\\conda\\3\\x86_64\\lib\\site-packages (from torch) (3.4.2)\n",
      "Requirement already satisfied: jinja2 in c:\\users\\user\\.julia\\conda\\3\\x86_64\\lib\\site-packages (from torch) (3.1.6)\n",
      "Requirement already satisfied: fsspec in c:\\users\\user\\.julia\\conda\\3\\x86_64\\lib\\site-packages (from torch) (2025.5.1)\n",
      "Requirement already satisfied: sympy==1.13.1 in c:\\users\\user\\.julia\\conda\\3\\x86_64\\lib\\site-packages (from torch) (1.13.1)\n",
      "Requirement already satisfied: mpmath<1.4,>=1.1.0 in c:\\users\\user\\.julia\\conda\\3\\x86_64\\lib\\site-packages (from sympy==1.13.1->torch) (1.3.0)\n",
      "Requirement already satisfied: numpy in c:\\users\\user\\.julia\\conda\\3\\x86_64\\lib\\site-packages (from torchvision) (1.26.0)\n",
      "Requirement already satisfied: pillow!=8.3.*,>=5.3.0 in c:\\users\\user\\.julia\\conda\\3\\x86_64\\lib\\site-packages (from torchvision) (10.2.0)\n",
      "Requirement already satisfied: MarkupSafe>=2.0 in c:\\users\\user\\.julia\\conda\\3\\x86_64\\lib\\site-packages (from jinja2->torch) (3.0.2)\n"
     ]
    }
   ],
   "source": [
    "!pip install torch torchvision torchaudio --index-url https://download.pytorch.org/whl/cu121"
   ]
  },
  {
   "cell_type": "code",
   "execution_count": 3,
   "id": "94fb9d5f",
   "metadata": {},
   "outputs": [],
   "source": [
    "import torch\n",
    "import torch.nn as nn\n",
    "import torchaudio\n",
    "from torch.utils.data import DataLoader\n",
    "from torchaudio.datasets import LIBRISPEECH\n",
    "from torchaudio.transforms import MelSpectrogram, Resample\n",
    "import os"
   ]
  },
  {
   "cell_type": "code",
   "execution_count": 4,
   "id": "651d71ff",
   "metadata": {},
   "outputs": [],
   "source": [
    "import matplotlib.pyplot as plt\n",
    "from IPython.display import clear_output"
   ]
  },
  {
   "cell_type": "markdown",
   "id": "afd9bcb0",
   "metadata": {},
   "source": [
    "##todo:\n",
    "splitat u validation i u train set"
   ]
  },
  {
   "cell_type": "code",
   "execution_count": 5,
   "id": "02ab8b5d",
   "metadata": {},
   "outputs": [
    {
     "name": "stdout",
     "output_type": "stream",
     "text": [
      "True\n",
      "12.1\n",
      "1\n",
      "NVIDIA GeForce GTX 1660\n"
     ]
    }
   ],
   "source": [
    "print(torch.cuda.is_available())\n",
    "print(torch.version.cuda)\n",
    "print(torch.cuda.device_count())\n",
    "print(torch.cuda.get_device_name(0) if torch.cuda.is_available() else \"No GPU\")"
   ]
  },
  {
   "cell_type": "code",
   "execution_count": 6,
   "id": "dd5ae47e",
   "metadata": {},
   "outputs": [],
   "source": [
    "# Define a custom transform (Mel spectrogram transformation)\n",
    "transform = MelSpectrogram(\n",
    "    sample_rate=16000,\n",
    "    n_fft=400,        # 25 ms window\n",
    "    hop_length=160,   # 10 ms stride\n",
    "    n_mels=40\n",
    ")"
   ]
  },
  {
   "cell_type": "markdown",
   "id": "3905dac8",
   "metadata": {},
   "source": [
    "ako treba If you still need nn.Sequential later, wrap it like:"
   ]
  },
  {
   "cell_type": "markdown",
   "id": "9b21c418",
   "metadata": {},
   "source": [
    "transform = nn.Sequential(\n",
    "    MelSpectrogram(sample_rate=16000, n_fft=400, hop_length=160, n_mels=40)\n",
    ")"
   ]
  },
  {
   "cell_type": "code",
   "execution_count": 7,
   "id": "c99ed92b",
   "metadata": {},
   "outputs": [],
   "source": [
    "# Example: simple character map (extend as needed)\n",
    "char_map = {c: i+1 for i, c in enumerate(\"abcdefghijklmnopqrstuvwxyz '\")}\n",
    "char_map['<blank>'] = 0\n",
    "output_size = len(char_map)\n",
    "def text_to_int_sequence(text):\n",
    "    return [char_map.get(c, 0) for c in text.lower()]"
   ]
  },
  {
   "cell_type": "code",
   "execution_count": 8,
   "id": "87d4640e",
   "metadata": {},
   "outputs": [
    {
     "name": "stdout",
     "output_type": "stream",
     "text": [
      "Requirement already satisfied: pyctcdecode in c:\\users\\user\\.julia\\conda\\3\\x86_64\\lib\\site-packages (0.5.0)\n",
      "Requirement already satisfied: numpy<2.0.0,>=1.15.0 in c:\\users\\user\\.julia\\conda\\3\\x86_64\\lib\\site-packages (from pyctcdecode) (1.26.0)\n",
      "Requirement already satisfied: pygtrie<3.0,>=2.1 in c:\\users\\user\\.julia\\conda\\3\\x86_64\\lib\\site-packages (from pyctcdecode) (2.5.0)\n",
      "Requirement already satisfied: hypothesis<7,>=6.14 in c:\\users\\user\\.julia\\conda\\3\\x86_64\\lib\\site-packages (from pyctcdecode) (6.136.2)\n",
      "Requirement already satisfied: attrs>=22.2.0 in c:\\users\\user\\.julia\\conda\\3\\x86_64\\lib\\site-packages (from hypothesis<7,>=6.14->pyctcdecode) (25.3.0)\n",
      "Requirement already satisfied: exceptiongroup>=1.0.0 in c:\\users\\user\\.julia\\conda\\3\\x86_64\\lib\\site-packages (from hypothesis<7,>=6.14->pyctcdecode) (1.2.2)\n",
      "Requirement already satisfied: sortedcontainers<3.0.0,>=2.1.0 in c:\\users\\user\\.julia\\conda\\3\\x86_64\\lib\\site-packages (from hypothesis<7,>=6.14->pyctcdecode) (2.4.0)\n"
     ]
    }
   ],
   "source": [
    "!pip install pyctcdecode\n"
   ]
  },
  {
   "cell_type": "code",
   "execution_count": 9,
   "id": "8691ddc2",
   "metadata": {},
   "outputs": [
    {
     "name": "stdout",
     "output_type": "stream",
     "text": [
      "Collecting https://github.com/kpu/kenlm/archive/master.zip\n",
      "  Using cached https://github.com/kpu/kenlm/archive/master.zip\n",
      "  Installing build dependencies: started\n",
      "  Installing build dependencies: finished with status 'done'\n",
      "  Getting requirements to build wheel: started\n",
      "  Getting requirements to build wheel: finished with status 'done'\n",
      "  Preparing metadata (pyproject.toml): started\n",
      "  Preparing metadata (pyproject.toml): finished with status 'done'\n",
      "Building wheels for collected packages: kenlm\n",
      "  Building wheel for kenlm (pyproject.toml): started\n",
      "  Building wheel for kenlm (pyproject.toml): finished with status 'error'\n",
      "Failed to build kenlm\n"
     ]
    },
    {
     "name": "stderr",
     "output_type": "stream",
     "text": [
      "  error: subprocess-exited-with-error\n",
      "  \n",
      "  × Building wheel for kenlm (pyproject.toml) did not run successfully.\n",
      "  │ exit code: 1\n",
      "  ╰─> [73 lines of output]\n",
      "      Will build with KenLM max_order set to 6\n",
      "      <3>WSL (30 - Relay) ERROR: CreateProcessCommon:735: execvpe(/bin/bash) failed: No such file or directory\n",
      "      <3>WSL (33 - Relay) ERROR: CreateProcessCommon:735: execvpe(/bin/bash) failed: No such file or directory\n",
      "      <3>WSL (36 - Relay) ERROR: CreateProcessCommon:735: execvpe(/bin/bash) failed: No such file or directory\n",
      "      running bdist_wheel\n",
      "      running build\n",
      "      running build_ext\n",
      "      -- Building for: NMake Makefiles\n",
      "      CMake Error at CMakeLists.txt:14 (project):\n",
      "        Generator\n",
      "      \n",
      "          NMake Makefiles\n",
      "      \n",
      "        does not support platform specification, but platform\n",
      "      \n",
      "          x64\n",
      "      \n",
      "        was specified.\n",
      "      \n",
      "      \n",
      "      CMake Error: CMAKE_C_COMPILER not set, after EnableLanguage\n",
      "      CMake Error: CMAKE_CXX_COMPILER not set, after EnableLanguage\n",
      "      -- Configuring incomplete, errors occurred!\n",
      "      Traceback (most recent call last):\n",
      "        File \"C:\\Users\\User\\.julia\\conda\\3\\x86_64\\lib\\site-packages\\pip\\_vendor\\pyproject_hooks\\_in_process\\_in_process.py\", line 353, in <module>\n",
      "          main()\n",
      "        File \"C:\\Users\\User\\.julia\\conda\\3\\x86_64\\lib\\site-packages\\pip\\_vendor\\pyproject_hooks\\_in_process\\_in_process.py\", line 335, in main\n",
      "          json_out['return_val'] = hook(**hook_input['kwargs'])\n",
      "        File \"C:\\Users\\User\\.julia\\conda\\3\\x86_64\\lib\\site-packages\\pip\\_vendor\\pyproject_hooks\\_in_process\\_in_process.py\", line 251, in build_wheel\n",
      "          return _build_backend().build_wheel(wheel_directory, config_settings,\n",
      "        File \"C:\\Users\\User\\AppData\\Local\\Temp\\pip-build-env-izdopuo_\\overlay\\Lib\\site-packages\\setuptools\\build_meta.py\", line 435, in build_wheel\n",
      "          return _build(['bdist_wheel', '--dist-info-dir', str(metadata_directory)])\n",
      "        File \"C:\\Users\\User\\AppData\\Local\\Temp\\pip-build-env-izdopuo_\\overlay\\Lib\\site-packages\\setuptools\\build_meta.py\", line 423, in _build\n",
      "          return self._build_with_temp_dir(\n",
      "        File \"C:\\Users\\User\\AppData\\Local\\Temp\\pip-build-env-izdopuo_\\overlay\\Lib\\site-packages\\setuptools\\build_meta.py\", line 404, in _build_with_temp_dir\n",
      "          self.run_setup()\n",
      "        File \"C:\\Users\\User\\AppData\\Local\\Temp\\pip-build-env-izdopuo_\\overlay\\Lib\\site-packages\\setuptools\\build_meta.py\", line 512, in run_setup\n",
      "          super().run_setup(setup_script=setup_script)\n",
      "        File \"C:\\Users\\User\\AppData\\Local\\Temp\\pip-build-env-izdopuo_\\overlay\\Lib\\site-packages\\setuptools\\build_meta.py\", line 317, in run_setup\n",
      "          exec(code, locals())\n",
      "        File \"<string>\", line 124, in <module>\n",
      "        File \"C:\\Users\\User\\AppData\\Local\\Temp\\pip-build-env-izdopuo_\\overlay\\Lib\\site-packages\\setuptools\\__init__.py\", line 115, in setup\n",
      "          return distutils.core.setup(**attrs)\n",
      "        File \"C:\\Users\\User\\AppData\\Local\\Temp\\pip-build-env-izdopuo_\\overlay\\Lib\\site-packages\\setuptools\\_distutils\\core.py\", line 186, in setup\n",
      "          return run_commands(dist)\n",
      "        File \"C:\\Users\\User\\AppData\\Local\\Temp\\pip-build-env-izdopuo_\\overlay\\Lib\\site-packages\\setuptools\\_distutils\\core.py\", line 202, in run_commands\n",
      "          dist.run_commands()\n",
      "        File \"C:\\Users\\User\\AppData\\Local\\Temp\\pip-build-env-izdopuo_\\overlay\\Lib\\site-packages\\setuptools\\_distutils\\dist.py\", line 1002, in run_commands\n",
      "          self.run_command(cmd)\n",
      "        File \"C:\\Users\\User\\AppData\\Local\\Temp\\pip-build-env-izdopuo_\\overlay\\Lib\\site-packages\\setuptools\\dist.py\", line 1102, in run_command\n",
      "          super().run_command(command)\n",
      "        File \"C:\\Users\\User\\AppData\\Local\\Temp\\pip-build-env-izdopuo_\\overlay\\Lib\\site-packages\\setuptools\\_distutils\\dist.py\", line 1021, in run_command\n",
      "          cmd_obj.run()\n",
      "        File \"C:\\Users\\User\\AppData\\Local\\Temp\\pip-build-env-izdopuo_\\overlay\\Lib\\site-packages\\setuptools\\command\\bdist_wheel.py\", line 370, in run\n",
      "          self.run_command(\"build\")\n",
      "        File \"C:\\Users\\User\\AppData\\Local\\Temp\\pip-build-env-izdopuo_\\overlay\\Lib\\site-packages\\setuptools\\_distutils\\cmd.py\", line 357, in run_command\n",
      "          self.distribution.run_command(command)\n",
      "        File \"C:\\Users\\User\\AppData\\Local\\Temp\\pip-build-env-izdopuo_\\overlay\\Lib\\site-packages\\setuptools\\dist.py\", line 1102, in run_command\n",
      "          super().run_command(command)\n",
      "        File \"C:\\Users\\User\\AppData\\Local\\Temp\\pip-build-env-izdopuo_\\overlay\\Lib\\site-packages\\setuptools\\_distutils\\dist.py\", line 1021, in run_command\n",
      "          cmd_obj.run()\n",
      "        File \"C:\\Users\\User\\AppData\\Local\\Temp\\pip-build-env-izdopuo_\\overlay\\Lib\\site-packages\\setuptools\\_distutils\\command\\build.py\", line 135, in run\n",
      "          self.run_command(cmd_name)\n",
      "        File \"C:\\Users\\User\\AppData\\Local\\Temp\\pip-build-env-izdopuo_\\overlay\\Lib\\site-packages\\setuptools\\_distutils\\cmd.py\", line 357, in run_command\n",
      "          self.distribution.run_command(command)\n",
      "        File \"C:\\Users\\User\\AppData\\Local\\Temp\\pip-build-env-izdopuo_\\overlay\\Lib\\site-packages\\setuptools\\dist.py\", line 1102, in run_command\n",
      "          super().run_command(command)\n",
      "        File \"C:\\Users\\User\\AppData\\Local\\Temp\\pip-build-env-izdopuo_\\overlay\\Lib\\site-packages\\setuptools\\_distutils\\dist.py\", line 1021, in run_command\n",
      "          cmd_obj.run()\n",
      "        File \"<string>\", line 104, in run\n",
      "        File \"C:\\Users\\User\\.julia\\conda\\3\\x86_64\\lib\\subprocess.py\", line 369, in check_call\n",
      "          raise CalledProcessError(retcode, cmd)\n",
      "      subprocess.CalledProcessError: Command '['cmake', 'C:\\\\Users\\\\User\\\\AppData\\\\Local\\\\Temp\\\\pip-req-build-q6xinrgk', '-DCMAKE_LIBRARY_OUTPUT_DIRECTORY=C:\\\\Users\\\\User\\\\AppData\\\\Local\\\\Temp\\\\pip-req-build-q6xinrgk\\\\build\\\\lib.win-amd64-cpython-310', '-DBUILD_SHARED_LIBS=ON', '-DBUILD_PYTHON_STANDALONE=ON', '-DKENLM_MAX_ORDER=6', '-DCMAKE_WINDOWS_EXPORT_ALL_SYMBOLS=ON', '-DCMAKE_RUNTIME_OUTPUT_DIRECTORY_RELEASE=C:\\\\Users\\\\User\\\\AppData\\\\Local\\\\Temp\\\\pip-req-build-q6xinrgk\\\\build\\\\lib.win-amd64-cpython-310', '-DCMAKE_LIBRARY_OUTPUT_DIRECTORY_RELEASE=C:\\\\Users\\\\User\\\\AppData\\\\Local\\\\Temp\\\\pip-req-build-q6xinrgk\\\\build\\\\lib.win-amd64-cpython-310', '-DCMAKE_ARCHIVE_OUTPUT_DIRECTORY_RELEASE=C:\\\\Users\\\\User\\\\AppData\\\\Local\\\\Temp\\\\pip-req-build-q6xinrgk\\\\build\\\\lib.win-amd64-cpython-310', '-A', 'x64']' returned non-zero exit status 1.\n",
      "      [end of output]\n",
      "  \n",
      "  note: This error originates from a subprocess, and is likely not a problem with pip.\n",
      "  ERROR: Failed building wheel for kenlm\n",
      "ERROR: Could not build wheels for kenlm, which is required to install pyproject.toml-based projects\n"
     ]
    }
   ],
   "source": [
    "!pip install https://github.com/kpu/kenlm/archive/master.zip"
   ]
  },
  {
   "cell_type": "code",
   "execution_count": 10,
   "id": "a6c388f6",
   "metadata": {},
   "outputs": [
    {
     "name": "stderr",
     "output_type": "stream",
     "text": [
      "kenlm python bindings are not installed. Most likely you want to install it using: pip install https://github.com/kpu/kenlm/archive/master.zip\n"
     ]
    },
    {
     "name": "stderr",
     "output_type": "stream",
     "text": [
      "kenlm python bindings are not installed. Most likely you want to install it using: pip install https://github.com/kpu/kenlm/archive/master.zip\n"
     ]
    }
   ],
   "source": [
    "from pyctcdecode import BeamSearchDecoderCTC, Alphabet\n",
    "\n",
    "labels = [\"<pad>\"] + list(\"abcdefghijklmnopqrstuvwxyz '\")  # 29 labels total\n",
    "alphabet = Alphabet.build_alphabet(labels)  # now index 0 is blank\n",
    "decoder = BeamSearchDecoderCTC(alphabet)"
   ]
  },
  {
   "cell_type": "markdown",
   "id": "e585b4d2",
   "metadata": {},
   "source": [
    "### što je dropout, zašto"
   ]
  },
  {
   "cell_type": "markdown",
   "id": "4a4e2ffb",
   "metadata": {},
   "source": [
    "promjena max poola na (2,1)\n",
    " Why we also changed stride=(2, 1)?\n",
    "We usually want stride = kernel size in pooling.\n",
    "\n",
    "This avoids overlapping windows and makes the output size predictable.\n",
    "\n",
    "If you used:\n",
    "\n",
    "python\n",
    "Kopiraj\n",
    "Uredi\n",
    "kernel_size=(2, 2), stride=(2, 1)\n",
    "You’d pool in time — but only move forward 1 step\n",
    "\n",
    "That would result in overlapping pooling in time — more expensive"
   ]
  },
  {
   "cell_type": "code",
   "execution_count": 31,
   "id": "d995e60f",
   "metadata": {},
   "outputs": [],
   "source": [
    "FIXED_INPUT_LENGTH = 8000  # or another value that fits your dataset\n",
    "#FIXED_TIME_STEPS = 1024    # Adjust this based on your MelSpectrogram output and model\n",
    "FIXED_TIME_STEPS = 512\n",
    "class CNN_LSTM_Model(nn.Module):\n",
    "    def __init__(self, hidden_size=128, num_layers=2, output_size=len(labels)):\n",
    "        super().__init__()\n",
    "\n",
    "        self.conv1 = nn.Conv2d(1, 32, kernel_size=(3, 3), stride=1, padding=1)\n",
    "        self.pool = nn.Identity()  # replaced MaxPool2d((2, 1)) to preserve time resolution\n",
    "        self.bn1 = nn.BatchNorm2d(32)\n",
    "\n",
    "        self.conv2 = nn.Conv2d(32, 64, kernel_size=(3, 3), stride=1, padding=1)\n",
    "        self.bn2 = nn.BatchNorm2d(64)\n",
    "\n",
    "        self.dropout = nn.Dropout(0.2)\n",
    "        self.hidden_size = hidden_size\n",
    "        self.num_layers = num_layers\n",
    "        self.output_size = output_size\n",
    "\n",
    "        # ⚠️ Dummy input to infer LSTM input size\n",
    "        with torch.no_grad():\n",
    "            dummy = torch.zeros(1, 1, 40, FIXED_TIME_STEPS)  # [B, C, Freq, Time]\n",
    "            x = self.pool(torch.relu(self.bn1(self.conv1(dummy))))\n",
    "            x = torch.relu(self.bn2(self.conv2(x)))\n",
    "            _, channels, freq, _ = x.shape\n",
    "            lstm_input_size = channels * freq\n",
    "\n",
    "        self.lstm = nn.LSTM(\n",
    "            input_size=lstm_input_size,\n",
    "            hidden_size=self.hidden_size,\n",
    "            num_layers=self.num_layers,\n",
    "            batch_first=True\n",
    "        )\n",
    "        self.fc = nn.Linear(self.hidden_size, self.output_size)\n",
    "\n",
    "    def forward(self, x):\n",
    "        if len(x.shape) == 3:\n",
    "            x = x.unsqueeze(1)\n",
    "\n",
    "        x = self.pool(torch.relu(self.bn1(self.conv1(x))))\n",
    "        x = torch.relu(self.bn2(self.conv2(x)))\n",
    "\n",
    "        batch, channels, freq, time = x.shape\n",
    "        x = x.permute(0, 3, 1, 2).contiguous().view(batch, time, channels * freq)\n",
    "\n",
    "        lstm_out, _ = self.lstm(x)\n",
    "\n",
    "        intermediate_logits = self.fc(lstm_out)  # shape: [B, T, vocab]\n",
    "        final_output = self.dropout(intermediate_logits)\n",
    "\n",
    "        return final_output.permute(1, 0, 2), intermediate_logits.permute(1, 0, 2)\n"
   ]
  },
  {
   "cell_type": "code",
   "execution_count": 32,
   "id": "2637efdc",
   "metadata": {},
   "outputs": [],
   "source": [
    "# Define CTC Loss function\n",
    "ctc_loss = nn.CTCLoss(blank=0, zero_infinity=True)"
   ]
  },
  {
   "cell_type": "code",
   "execution_count": 33,
   "id": "aea633bc",
   "metadata": {},
   "outputs": [],
   "source": [
    "class LibriSpeechDataset(torch.utils.data.Dataset):\n",
    "    def __init__(self, root_dir, subset=\"train-clean-100\", transform=None, max_duration=10.0):\n",
    "        self.root_dir = root_dir\n",
    "        self.subset = subset\n",
    "        self.transform = transform\n",
    "        self.data = []\n",
    "\n",
    "        max_chars = 60 \n",
    "\n",
    "        subset_dir = os.path.join(self.root_dir, subset)\n",
    "        for speaker in os.listdir(subset_dir):\n",
    "            speaker_path = os.path.join(subset_dir, speaker)\n",
    "            if os.path.isdir(speaker_path):\n",
    "                for chapter in os.listdir(speaker_path):\n",
    "                    chapter_path = os.path.join(speaker_path, chapter)\n",
    "                    if os.path.isdir(chapter_path):\n",
    "                        trans_file = os.path.join(chapter_path, f\"{speaker}-{chapter}.trans.txt\")\n",
    "                        audio_files = [f for f in os.listdir(chapter_path) if f.endswith('.flac')]\n",
    "                        \n",
    "                        # Load all transcriptions\n",
    "                        trans_dict = {}\n",
    "                        with open(trans_file, 'r') as f:\n",
    "                            for line in f:\n",
    "                                parts = line.strip().split(' ', 1)\n",
    "                                if len(parts) == 2:\n",
    "                                    trans_dict[parts[0]] = parts[1].lower()\n",
    "\n",
    "                        for audio_file in audio_files:\n",
    "                            audio_path = os.path.join(chapter_path, audio_file)\n",
    "                            waveform, sample_rate = torchaudio.load(audio_path)\n",
    "                            duration = waveform.shape[1] / sample_rate\n",
    "                            utt_id = audio_file.replace('.flac', '')\n",
    "                            transcription = trans_dict.get(utt_id, \"\")\n",
    "                            if duration <= max_duration and len(transcription) <= max_chars:\n",
    "                                self.data.append({\n",
    "                                    'audio': audio_path,\n",
    "                                    'transcription': transcription\n",
    "                                })\n",
    "\n",
    "    def __len__(self):\n",
    "        return len(self.data)\n",
    "\n",
    "    def __getitem__(self, idx):\n",
    "        sample = self.data[idx]\n",
    "        waveform, sample_rate = torchaudio.load(sample['audio'])\n",
    "        waveform = waveform.squeeze(0)\n",
    "        if self.transform:\n",
    "            spectrogram = self.transform(waveform)\n",
    "            spectrogram = spectrogram.unsqueeze(0)\n",
    "            return spectrogram, sample['transcription']\n",
    "        return waveform.unsqueeze(0), sample['transcription']\n"
   ]
  },
  {
   "cell_type": "code",
   "execution_count": 34,
   "id": "16ec8ece",
   "metadata": {},
   "outputs": [],
   "source": [
    "import torch\n",
    "import torch.nn.functional as F\n",
    "FIXED_TIME_STEPS = FIXED_TIME_STEPS\n",
    "\n",
    "def pad_waveform(waveform, target_length=FIXED_INPUT_LENGTH):\n",
    "    # waveform shape: [channels, time] or [1, time]\n",
    "    waveform_length = waveform.size(1)\n",
    "    if waveform_length < target_length:\n",
    "        padding = target_length - waveform_length\n",
    "        waveform = F.pad(waveform, (0, padding))\n",
    "    elif waveform_length > target_length:\n",
    "        waveform = waveform[:, :target_length]\n",
    "    return waveform\n",
    "\n",
    "\n",
    "def resize_spec(spec, target_width=FIXED_TIME_STEPS):\n",
    "    current_width = spec.shape[-1]\n",
    "    if current_width < target_width:\n",
    "        return F.pad(spec, (0, target_width - current_width))\n",
    "    else:\n",
    "        return spec[..., :target_width]\n",
    "def collate_fn(batch):\n",
    "    spectrograms = [resize_spec(item[0]) for item in batch]\n",
    "    transcripts = [item[1] for item in batch]\n",
    "\n",
    "    spectrograms = torch.stack(spectrograms)  # shape: [B, 1, 40, FIXED_TIME_STEPS]\n",
    "\n",
    "    # Targets\n",
    "    targets = []\n",
    "    target_lengths = []\n",
    "    for t in transcripts:\n",
    "        int_seq = text_to_int_sequence(t)\n",
    "        targets.extend(int_seq)\n",
    "        target_lengths.append(len(int_seq))\n",
    "\n",
    "    targets = torch.tensor(targets, dtype=torch.long)\n",
    "    target_lengths = torch.tensor(target_lengths, dtype=torch.long)\n",
    "\n",
    "    return spectrograms, targets, target_lengths\n"
   ]
  },
  {
   "cell_type": "markdown",
   "id": "640d11e3",
   "metadata": {},
   "source": [
    "## DONT FORGET TO RELOAD DATALOADER IF YOU FILTER FOR LENGTH ILI NEŠTO DRUGO"
   ]
  },
  {
   "cell_type": "code",
   "execution_count": 15,
   "id": "06c5e49d",
   "metadata": {},
   "outputs": [],
   "source": [
    "dataset = LibriSpeechDataset(\n",
    "    root_dir=r\"X:\\AIx\\PROJECTS\\voiceToText\\mojModel\\data\\LibriSpeech\",\n",
    "    subset=\"train-clean-100\",\n",
    "    transform=transform\n",
    ")\n"
   ]
  },
  {
   "cell_type": "code",
   "execution_count": 35,
   "id": "d3dc85b6",
   "metadata": {},
   "outputs": [
    {
     "name": "stdout",
     "output_type": "stream",
     "text": [
      "Total filtered samples: 1454\n"
     ]
    }
   ],
   "source": [
    "print(f\"Total filtered samples: {len(dataset)}\")"
   ]
  },
  {
   "cell_type": "code",
   "execution_count": 36,
   "id": "d10674a9",
   "metadata": {},
   "outputs": [],
   "source": [
    "from torch.utils.data import random_split\n",
    "\n",
    "val_split = 0.1  # 10% for validation\n",
    "val_size = int(val_split * len(dataset))\n",
    "train_size = len(dataset) - val_size\n",
    "\n",
    "train_set, val_set = random_split(dataset, [train_size, val_size])\n",
    "\n",
    "train_loader = DataLoader(train_set, batch_size=16, shuffle=True, collate_fn=collate_fn, num_workers=0, pin_memory=True)\n",
    "val_loader   = DataLoader(val_set,   batch_size=16, shuffle=False, collate_fn=collate_fn, num_workers=0, pin_memory=True)\n"
   ]
  },
  {
   "cell_type": "code",
   "execution_count": 37,
   "id": "426738cf",
   "metadata": {},
   "outputs": [
    {
     "name": "stdout",
     "output_type": "stream",
     "text": [
      "Using device: cuda\n"
     ]
    }
   ],
   "source": [
    "device = torch.device(\"cuda\" if torch.cuda.is_available() else \"cpu\")\n",
    "print(\"Using device:\", device)"
   ]
  },
  {
   "cell_type": "code",
   "execution_count": 38,
   "id": "8b216b6d",
   "metadata": {},
   "outputs": [
    {
     "name": "stdout",
     "output_type": "stream",
     "text": [
      "Shape before model: torch.Size([16, 1, 40, 512])\n"
     ]
    }
   ],
   "source": [
    "model = CNN_LSTM_Model(hidden_size=128, num_layers=2, output_size=output_size).to(device)\n",
    "# Run one batch through model to initialize LSTM/FC\n",
    "inputs, _, _ = next(iter(train_loader))\n",
    "print(\"Shape before model:\", inputs.shape)  # should be [B, 1, 40, T]\n",
    "_ = model(inputs.to(torch.float32).to(device))\n",
    "#optimizer = torch.optim.Adam(model.parameters(), lr=1e-3)\n",
    "#optimizer = torch.optim.Adam(model.parameters(), lr=3e-3) # ovo je za overfitting test\n",
    "optimizer = torch.optim.AdamW(model.parameters(), lr=3e-4, weight_decay=1e-2)\n",
    "scheduler = torch.optim.lr_scheduler.ReduceLROnPlateau(optimizer, factor=0.5, patience=20)\n",
    "\n",
    "\n",
    "\n"
   ]
  },
  {
   "cell_type": "code",
   "execution_count": 39,
   "id": "0bbcf6ce",
   "metadata": {},
   "outputs": [],
   "source": [
    "inv_char_map = {v: k for k, v in char_map.items()}\n",
    "\n",
    "def decode_prediction(pred):\n",
    "    decoded = []\n",
    "    prev = -1\n",
    "    for p in pred:\n",
    "        if p != prev and p != 0:  # Skip blank (0)\n",
    "            decoded.append(labels[p])\n",
    "        prev = p\n",
    "    return ''.join(decoded)\n",
    "\n",
    "def decode_target(target_seq):\n",
    "    return ''.join(inv_char_map.get(t, '?') for t in target_seq if t != 0)"
   ]
  },
  {
   "cell_type": "code",
   "execution_count": 21,
   "id": "3c267671",
   "metadata": {},
   "outputs": [
    {
     "name": "stdout",
     "output_type": "stream",
     "text": [
      "Requirement already satisfied: jiwer in c:\\users\\user\\.julia\\conda\\3\\x86_64\\lib\\site-packages (4.0.0)\n",
      "Requirement already satisfied: click>=8.1.8 in c:\\users\\user\\.julia\\conda\\3\\x86_64\\lib\\site-packages (from jiwer) (8.2.1)\n",
      "Requirement already satisfied: rapidfuzz>=3.9.7 in c:\\users\\user\\.julia\\conda\\3\\x86_64\\lib\\site-packages (from jiwer) (3.13.0)\n",
      "Requirement already satisfied: colorama in c:\\users\\user\\.julia\\conda\\3\\x86_64\\lib\\site-packages (from click>=8.1.8->jiwer) (0.4.6)\n"
     ]
    }
   ],
   "source": [
    "!pip install jiwer\n"
   ]
  },
  {
   "cell_type": "markdown",
   "id": "a43d6717",
   "metadata": {},
   "source": [
    "treba fine tuneat, ako je target_length veći od output_time_steps ni dobro"
   ]
  },
  {
   "cell_type": "code",
   "execution_count": 40,
   "id": "a58161de",
   "metadata": {},
   "outputs": [
    {
     "data": {
      "text/plain": [
       "CNN_LSTM_Model(\n",
       "  (conv1): Conv2d(1, 32, kernel_size=(3, 3), stride=(1, 1), padding=(1, 1))\n",
       "  (pool): Identity()\n",
       "  (bn1): BatchNorm2d(32, eps=1e-05, momentum=0.1, affine=True, track_running_stats=True)\n",
       "  (conv2): Conv2d(32, 64, kernel_size=(3, 3), stride=(1, 1), padding=(1, 1))\n",
       "  (bn2): BatchNorm2d(64, eps=1e-05, momentum=0.1, affine=True, track_running_stats=True)\n",
       "  (dropout): Dropout(p=0.2, inplace=False)\n",
       "  (lstm): LSTM(2560, 128, num_layers=2, batch_first=True)\n",
       "  (fc): Linear(in_features=128, out_features=29, bias=True)\n",
       ")"
      ]
     },
     "execution_count": 40,
     "metadata": {},
     "output_type": "execute_result"
    }
   ],
   "source": [
    "def reset_weights(m):\n",
    "    if isinstance(m, (nn.Conv2d, nn.Linear, nn.LSTM)):\n",
    "        m.reset_parameters()\n",
    "\n",
    "model.apply(reset_weights)"
   ]
  },
  {
   "cell_type": "code",
   "execution_count": 46,
   "id": "168fc31c",
   "metadata": {},
   "outputs": [
    {
     "name": "stderr",
     "output_type": "stream",
     "text": [
      "C:\\Users\\User\\AppData\\Local\\Temp\\ipykernel_21944\\3267170467.py:1: FutureWarning: You are using `torch.load` with `weights_only=False` (the current default value), which uses the default pickle module implicitly. It is possible to construct malicious pickle data which will execute arbitrary code during unpickling (See https://github.com/pytorch/pytorch/blob/main/SECURITY.md#untrusted-models for more details). In a future release, the default value for `weights_only` will be flipped to `True`. This limits the functions that could be executed during unpickling. Arbitrary objects will no longer be allowed to be loaded via this mode unless they are explicitly allowlisted by the user via `torch.serialization.add_safe_globals`. We recommend you start setting `weights_only=True` for any use case where you don't have full control of the loaded file. Please open an issue on GitHub for any issues related to this experimental feature.\n",
      "  checkpoint = torch.load(\"checkpoint_full_epoch_750.pt\")\n"
     ]
    }
   ],
   "source": [
    "checkpoint = torch.load(\"checkpoint_full_epoch_750.pt\")\n",
    "model.load_state_dict(checkpoint['model_state_dict'])\n",
    "optimizer.load_state_dict(checkpoint['optimizer_state_dict'])\n",
    "scheduler.load_state_dict(checkpoint['scheduler_state_dict'])\n",
    "start_epoch = checkpoint['epoch'] + 1"
   ]
  },
  {
   "cell_type": "code",
   "execution_count": null,
   "id": "5a52cbad",
   "metadata": {},
   "outputs": [
    {
     "data": {
      "image/png": "[encoded data removed]",
      "text/plain": [
       "<Figure size 1200x500 with 2 Axes>"
      ]
     },
     "metadata": {},
     "output_type": "display_data"
    },
    {
     "name": "stdout",
     "output_type": "stream",
     "text": [
      "\n",
      "Epoch 750\n",
      "Train Loss: 3.9436, CER: 0.2475\n",
      "Val   Loss: 7.8632, CER: 0.7760\n"
     ]
    }
   ],
   "source": [
    "from tqdm import tqdm\n",
    "from jiwer import cer\n",
    "import matplotlib.pyplot as plt\n",
    "from IPython.display import clear_output\n",
    "\n",
    "# Init early stopping\n",
    "best_val_cer = float('inf')\n",
    "epochs_no_improve = 0\n",
    "early_stop_patience = 8\n",
    "checkpoint_path = \"best_model.pt\"\n",
    "\n",
    "epoch_losses = []\n",
    "epoch_cers = []\n",
    "val_losses = []\n",
    "val_cers = []\n",
    "\n",
    "model.train()\n",
    "\n",
    "for epoch in range(500):  # adjust number of epochs as needed\n",
    "    running_loss = 0.0\n",
    "    cer_scores = []\n",
    "\n",
    "    # === TRAINING ===\n",
    "    for batch_idx, (inputs, targets, target_lengths) in enumerate(tqdm(train_loader, desc=f\"Epoch {epoch+1}\")):\n",
    "        inputs = inputs.to(torch.float32).to(device)\n",
    "        targets = targets.to(device)\n",
    "        target_lengths = target_lengths.to(device)\n",
    "\n",
    "        optimizer.zero_grad()\n",
    "        outputs, intermediate = model(inputs)\n",
    "        log_probs = torch.nn.functional.log_softmax(outputs, dim=-1)\n",
    "        log_probs_mid = torch.nn.functional.log_softmax(intermediate, dim=-1)\n",
    "\n",
    "        input_lengths = torch.full((inputs.size(0),), log_probs.size(0), dtype=torch.long, device=device)\n",
    "\n",
    "        loss_main = ctc_loss(log_probs, targets, input_lengths, target_lengths)\n",
    "        loss_aux = ctc_loss(log_probs_mid, targets, input_lengths, target_lengths)\n",
    "        loss = loss_main + 0.3 * loss_aux  # ✅ Weighted auxiliary loss\n",
    "\n",
    "        loss.backward()\n",
    "        optimizer.step()\n",
    "\n",
    "        running_loss += loss.item()\n",
    "\n",
    "        preds = log_probs.argmax(-1).T  # shape: [batch, time]\n",
    "        target_offset = 0\n",
    "        for i in range(preds.shape[0]):\n",
    "            pred_str = decode_prediction(preds[i].tolist())\n",
    "            true_len = target_lengths[i].item()\n",
    "            target_str = decode_target(targets[target_offset:target_offset + true_len].tolist())\n",
    "            target_offset += true_len\n",
    "            cer_scores.append(cer(target_str, pred_str))\n",
    "\n",
    "    average_loss = running_loss / len(train_loader)\n",
    "    average_cer = sum(cer_scores) / len(cer_scores)\n",
    "    epoch_losses.append(average_loss)\n",
    "    epoch_cers.append(average_cer)\n",
    "\n",
    "    scheduler.step(average_loss)\n",
    "\n",
    "    # === VALIDATION ===\n",
    "    model.eval()\n",
    "    val_loss = 0.0\n",
    "    val_cer_scores = []\n",
    "\n",
    "    with torch.no_grad():\n",
    "        for inputs, targets, target_lengths in val_loader:\n",
    "            inputs = inputs.to(torch.float32).to(device)\n",
    "            targets = targets.to(device)\n",
    "            target_lengths = target_lengths.to(device)\n",
    "\n",
    "            outputs, intermediate = model(inputs)\n",
    "            log_probs = torch.nn.functional.log_softmax(outputs, dim=-1)\n",
    "            log_probs_mid = torch.nn.functional.log_softmax(intermediate, dim=-1)\n",
    "\n",
    "            input_lengths = torch.full((inputs.size(0),), log_probs.size(0), dtype=torch.long, device=device)\n",
    "            loss_main = ctc_loss(log_probs, targets, input_lengths, target_lengths)\n",
    "            loss_aux = ctc_loss(log_probs_mid, targets, input_lengths, target_lengths)\n",
    "            loss = loss_main + 0.3 * loss_aux  # Weighted auxiliary loss\n",
    "            val_loss += loss.item()\n",
    "\n",
    "            preds = log_probs.argmax(-1).T\n",
    "            target_offset = 0\n",
    "            for i in range(preds.shape[0]):\n",
    "                pred_str = decode_prediction(preds[i].tolist())\n",
    "                true_len = target_lengths[i].item()\n",
    "                target_str = decode_target(targets[target_offset:target_offset + true_len].tolist())\n",
    "                target_offset += true_len\n",
    "                val_cer_scores.append(cer(target_str, pred_str))\n",
    "\n",
    "    avg_val_loss = val_loss / len(val_loader)\n",
    "    avg_val_cer = sum(val_cer_scores) / len(val_cer_scores)\n",
    "    val_losses.append(avg_val_loss)\n",
    "    val_cers.append(avg_val_cer)\n",
    "\n",
    "    # === EARLY STOPPING ===\n",
    "    if avg_val_cer < best_val_cer:\n",
    "        best_val_cer = avg_val_cer\n",
    "        epochs_no_improve = 0\n",
    "        torch.save(model.state_dict(), checkpoint_path)\n",
    "        print(\"✅ Saved best model.\")\n",
    "    \n",
    "\n",
    "    # === LIVE PLOT ===\n",
    "    clear_output(wait=True)\n",
    "    plt.figure(figsize=(12, 5))\n",
    "\n",
    "    plt.subplot(1, 2, 1)\n",
    "    plt.plot(epoch_losses, label='Train Loss')\n",
    "    plt.plot(val_losses, label='Val Loss')\n",
    "    plt.title(\"CTC Loss\")\n",
    "    plt.xlabel(\"Epoch\")\n",
    "    plt.ylabel(\"Loss\")\n",
    "    plt.grid(True)\n",
    "    plt.legend()\n",
    "\n",
    "    plt.subplot(1, 2, 2)\n",
    "    plt.plot(epoch_cers, label='Train CER')\n",
    "    plt.plot(val_cers, label='Val CER')\n",
    "    plt.title(\"Character Error Rate\")\n",
    "    plt.xlabel(\"Epoch\")\n",
    "    plt.ylabel(\"CER\")\n",
    "    plt.grid(True)\n",
    "    plt.legend()\n",
    "\n",
    "    plt.tight_layout()\n",
    "    plt.show()\n",
    "\n",
    "    print(f\"\\nEpoch {epoch + 1}\")\n",
    "    print(f\"Train Loss: {average_loss:.4f}, CER: {average_cer:.4f}\")\n",
    "    print(f\"Val   Loss: {avg_val_loss:.4f}, CER: {avg_val_cer:.4f}\")\n",
    "\n",
    "    model.train()  # back to training mode for next epoch\n"
   ]
  },
  {
   "cell_type": "code",
   "execution_count": 45,
   "id": "4c3c3209",
   "metadata": {},
   "outputs": [],
   "source": [
    "#cijeli checkpoint\n",
    "torch.save({\n",
    "    'epoch': epoch,\n",
    "    'model_state_dict': model.state_dict(),\n",
    "    'optimizer_state_dict': optimizer.state_dict(),\n",
    "    'scheduler_state_dict': scheduler.state_dict(),\n",
    "    'train_loss': epoch_losses,\n",
    "    'val_loss': val_losses\n",
    "}, f\"checkpoint_full_epoch_750.pt\")"
   ]
  },
  {
   "cell_type": "code",
   "execution_count": null,
   "id": "fb93ba99",
   "metadata": {},
   "outputs": [],
   "source": []
  }
 ],
 "metadata": {
  "kernelspec": {
   "display_name": "base",
   "language": "python",
   "name": "python3"
  },
  "language_info": {
   "codemirror_mode": {
    "name": "ipython",
    "version": 3
   },
   "file_extension": ".py",
   "mimetype": "text/x-python",
   "name": "python",
   "nbconvert_exporter": "python",
   "pygments_lexer": "ipython3",
   "version": "3.10.12"
  }
 },
 "nbformat": 4,
 "nbformat_minor": 5
}
